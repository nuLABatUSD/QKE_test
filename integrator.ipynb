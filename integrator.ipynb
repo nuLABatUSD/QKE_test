{
 "cells": [
  {
   "cell_type": "code",
   "execution_count": 11,
   "id": "cfe3c1fe-aa3d-413d-b20c-50bac19183ca",
   "metadata": {},
   "outputs": [],
   "source": [
    "import numpy as np\n",
    "import matplotlib.pyplot as plt\n",
    "\n",
    "import interpolate_matrix as matint\n",
    "import integrand_interpolation as int"
   ]
  },
  {
   "cell_type": "code",
   "execution_count": 40,
   "id": "1b8a844d-5c46-476a-a8b2-f2e5704ad369",
   "metadata": {},
   "outputs": [],
   "source": [
    "class epsilon:\n",
    "    def __init__(self, max_linspace, N_LS, N_GL):\n",
    "        self.linspace_max = max_linspace\n",
    "        self.N_LS = N_LS\n",
    "        self.N_GL = N_GL\n",
    "\n",
    "        x_GL, w_GL = np.polynomial.laguerre.laggauss(N_GL)\n",
    "\n",
    "        self.eps = np.zeros(N_LS + N_GL)\n",
    "        self.w = np.zeros_like(self.eps)\n",
    "        \n",
    "        self.eps[:N_LS] = np.linspace(0, max_linspace, N_LS)\n",
    "        self.eps[N_LS:] = x_GL + max_linspace\n",
    "\n",
    "        self.w[:N_LS] = self.eps[1]\n",
    "        self.w[0] *= 0.5\n",
    "        self.w[N_LS-1] *= 0.5\n",
    "        self.w[N_LS:] = w_GL * np.exp(self.eps[N_LS:]-max_linspace)\n",
    "\n",
    "class density:\n",
    "    def __init__(self, max_linspace, N_LS, N_GL, func_e, func_m):\n",
    "        self.fun_e = func_e\n",
    "        self.fun_m = func_m\n",
    "\n",
    "        self.e = epsilon(max_linspace, N_LS, N_GL)\n",
    "        self.rho = matint.dens_array(self.e.eps, self.fun_e, self.fun_m)\n",
    "\n",
    "    def fg_exact(self, p_all):\n",
    "        f = np.zeros(5)\n",
    "        g = np.zeros(5)\n",
    "        for i in range(1,5):\n",
    "            f[i] = self.fun_e(p_all[i-1])\n",
    "            g[i] = self.fun_m(p_all[i-1])\n",
    "        return f, g"
   ]
  },
  {
   "cell_type": "code",
   "execution_count": 26,
   "id": "52c8c719-1e08-4e02-b385-93c79408bcbb",
   "metadata": {},
   "outputs": [],
   "source": [
    "def matrix_interp_extrap(x, e_epsilon, P_arrays):\n",
    "    rho_ee = np.zeros(len(e_epsilon.eps))\n",
    "    rho_mm = np.zeros_like(rho_ee)\n",
    "\n",
    "    rho_ee[:] = 0.5 * P_arrays[:,0] * (1 + P_arrays[:,3])\n",
    "    rho_mm[:] = 0.5 * P_arrays[:,0] * (1 - P_arrays[:,3])\n",
    "\n",
    "    if x > np.max(e_epsilon.eps):\n",
    "        fe_temp = np.exp(matint.linear_fit(x, e_epsilon.eps[-2:], np.log(rho_ee[-2:])))\n",
    "        fm_temp = np.exp(matint.linear_fit(x, e_epsilon.eps[-2:], np.log(rho_mm[-2:])))\n",
    "    else:\n",
    "        if x < e_epsilon.linspace_max:\n",
    "            func = matint.interpolate_log_fifth\n",
    "        else:\n",
    "            func = matint.interpolate_log_linear\n",
    "    \n",
    "        fe_temp = func(x, e_epsilon.eps, rho_ee)\n",
    "        fm_temp = func(x, e_epsilon.eps, rho_mm)\n",
    "\n",
    "    return np.array([fe_temp + fm_temp, 0, 0, (fe_temp - fm_temp)/(fe_temp + fm_temp + 1e-100)])"
   ]
  },
  {
   "cell_type": "code",
   "execution_count": 41,
   "id": "8f5d50cc-bcd7-47d8-aad8-fac2419a0fab",
   "metadata": {},
   "outputs": [
    {
     "ename": "SyntaxError",
     "evalue": "incomplete input (2282356538.py, line 2)",
     "output_type": "error",
     "traceback": [
      "\u001b[0;36m  Cell \u001b[0;32mIn[41], line 2\u001b[0;36m\u001b[0m\n\u001b[0;31m    \u001b[0m\n\u001b[0m    ^\u001b[0m\n\u001b[0;31mSyntaxError\u001b[0m\u001b[0;31m:\u001b[0m incomplete input\n"
     ]
    }
   ],
   "source": [
    "def inner_integral(p1, p2, dens):\n",
    "    for i in range(len(dens.e.eps)):\n",
    "        p4 = p1 + p2 - dens.e.eps[i]\n",
    "        if p4 < 0:\n",
    "            T1 = 0\n",
    "            T2 = 0\n",
    "        else:\n",
    "            p_array = np.array([p1, p2, dens.e.eps[i], p4])\n",
    "            f, g = dens.fg_exact(p_array)\n",
    "            T1, T2 = Fvv(f, g)"
   ]
  },
  {
   "cell_type": "code",
   "execution_count": 42,
   "id": "ce7018e2-d88d-4f64-843e-1715be3fb235",
   "metadata": {},
   "outputs": [],
   "source": [
    "e_og = epsilon(10, 201, 5)\n",
    "rho_og = density(10, 201, 5, int.f_FD_e, int.f_FD_m)"
   ]
  },
  {
   "cell_type": "code",
   "execution_count": 43,
   "id": "6a51b6b7-e4ba-40b1-815d-f0cdeab257e6",
   "metadata": {},
   "outputs": [
    {
     "data": {
      "text/plain": [
       "(array([0.        , 0.27091208, 0.04787969, 0.12025686, 0.12025686]),\n",
       " array([0.        , 0.26697985, 0.04697615, 0.11815698, 0.11815698]))"
      ]
     },
     "execution_count": 43,
     "metadata": {},
     "output_type": "execute_result"
    }
   ],
   "source": [
    "rho_og.fg_exact([1, 3, 2, 2])"
   ]
  },
  {
   "cell_type": "code",
   "execution_count": 9,
   "id": "8dc55562-87af-44ab-8197-af46081fe3b4",
   "metadata": {},
   "outputs": [],
   "source": [
    "e = epsilon(20, 201, 5)"
   ]
  },
  {
   "cell_type": "code",
   "execution_count": 47,
   "id": "a2b27348-67b8-47d2-8a3f-59c3582cce04",
   "metadata": {},
   "outputs": [],
   "source": [
    "f = np.exp(-e.eps)"
   ]
  },
  {
   "cell_type": "code",
   "execution_count": 48,
   "id": "51a124a9-f121-4e75-81c7-756f93b5b92a",
   "metadata": {},
   "outputs": [
    {
     "data": {
      "text/plain": [
       "1.0008331944757876"
      ]
     },
     "execution_count": 48,
     "metadata": {},
     "output_type": "execute_result"
    }
   ],
   "source": [
    "np.sum(f * e.w)"
   ]
  },
  {
   "cell_type": "code",
   "execution_count": 10,
   "id": "c2cc57cf-4825-4dc7-a7ff-cacbf82f80c8",
   "metadata": {},
   "outputs": [
    {
     "data": {
      "text/plain": [
       "(1.0008331924146339, 0.9999546000702375, 4.5399929762484854e-05)"
      ]
     },
     "execution_count": 10,
     "metadata": {},
     "output_type": "execute_result"
    }
   ],
   "source": [
    "ee = np.linspace(0,20,201)\n",
    "ff = np.exp(-ee)\n",
    "\n",
    "np.trapz(ff,ee), 1 - np.exp(-10), np.exp(-10)"
   ]
  },
  {
   "cell_type": "code",
   "execution_count": 12,
   "id": "4173580a-ea84-444d-8654-cda5038bf73d",
   "metadata": {},
   "outputs": [],
   "source": [
    "rho = matint.dens_array(e_og.eps, int.f_FD_e, int.f_FD_m)"
   ]
  },
  {
   "cell_type": "code",
   "execution_count": 27,
   "id": "969c4058-e147-4cee-a5dd-c518cfa8f7b4",
   "metadata": {},
   "outputs": [],
   "source": [
    "x = np.linspace(0,25,1000)\n",
    "f = np.zeros_like(x)\n",
    "\n",
    "for i in range(len(x)):\n",
    "    g = matrix_interp_extrap(x[i], e_og, rho)\n",
    "    f[i] = 0.5 * g[0] * (1 + g[3])"
   ]
  },
  {
   "cell_type": "code",
   "execution_count": 21,
   "id": "ffeeb538-49b6-4121-9111-3f5f6b9bbf71",
   "metadata": {},
   "outputs": [
    {
     "data": {
      "text/plain": [
       "[<matplotlib.lines.Line2D at 0x13ff40aa0>]"
      ]
     },
     "execution_count": 21,
     "metadata": {},
     "output_type": "execute_result"
    },
    {
     "data": {
      "image/png": "[encoded data removed]",
      "text/plain": [
       "<Figure size 640x480 with 1 Axes>"
      ]
     },
     "metadata": {},
     "output_type": "display_data"
    }
   ],
   "source": [
    "plt.semilogy(x, f)\n",
    "plt.semilogy(x, int.f_FD_e(x))"
   ]
  },
  {
   "cell_type": "code",
   "execution_count": 23,
   "id": "889222de-f8d2-4118-ba11-7c5239a4b862",
   "metadata": {},
   "outputs": [
    {
     "data": {
      "text/plain": [
       "[<matplotlib.lines.Line2D at 0x12c081460>]"
      ]
     },
     "execution_count": 23,
     "metadata": {},
     "output_type": "execute_result"
    },
    {
     "data": {
      "image/png": "[encoded data removed]",
      "text/plain": [
       "<Figure size 640x480 with 1 Axes>"
      ]
     },
     "metadata": {},
     "output_type": "display_data"
    }
   ],
   "source": [
    "plt.semilogy(x, np.abs(1-f/int.f_FD_e(x)))\n"
   ]
  },
  {
   "cell_type": "code",
   "execution_count": null,
   "id": "1e369d26-49a1-4ad2-a403-5e2506e4e586",
   "metadata": {},
   "outputs": [],
   "source": []
  }
 ],
 "metadata": {
  "kernelspec": {
   "display_name": "Python 3 (ipykernel)",
   "language": "python",
   "name": "python3"
  },
  "language_info": {
   "codemirror_mode": {
    "name": "ipython",
    "version": 3
   },
   "file_extension": ".py",
   "mimetype": "text/x-python",
   "name": "python",
   "nbconvert_exporter": "python",
   "pygments_lexer": "ipython3",
   "version": "3.12.7"
  }
 },
 "nbformat": 4,
 "nbformat_minor": 5
}
