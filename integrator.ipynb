{
 "cells": [
  {
   "cell_type": "code",
   "execution_count": 51,
   "id": "cfe3c1fe-aa3d-413d-b20c-50bac19183ca",
   "metadata": {},
   "outputs": [],
   "source": [
    "import numpy as np\n",
    "import matplotlib.pyplot as plt\n",
    "\n",
    "import interpolate_matrix as matint"
   ]
  },
  {
   "cell_type": "code",
   "execution_count": 9,
   "id": "1b8a844d-5c46-476a-a8b2-f2e5704ad369",
   "metadata": {},
   "outputs": [],
   "source": [
    "class epsilon:\n",
    "    def __init__(self, max_linspace, N_LS, N_GL):\n",
    "        self.linspace_max = max_linspace\n",
    "        self.N_LS = N_LS\n",
    "        self.N_GL = N_GL\n",
    "\n",
    "        x_GL, w_GL = np.polynomial.laguerre.laggauss(N_GL)\n",
    "\n",
    "        self.eps = np.zeros(N_LS + N_GL)\n",
    "        self.w = np.zeros_like(self.eps)\n",
    "        \n",
    "        self.eps[:N_LS] = np.linspace(0, max_linspace, N_LS)\n",
    "        self.eps[N_LS:] = x_GL + max_linspace\n",
    "\n",
    "        self.w[:N_LS] = self.eps[1]\n",
    "        self.w[0] *= 0.5\n",
    "        self.w[N_LS-1] *= 0.5\n",
    "        self.w[N_LS:] = w_GL * np.exp(self.eps[N_LS:]-max_linspace)"
   ]
  },
  {
   "cell_type": "code",
   "execution_count": 52,
   "id": "52c8c719-1e08-4e02-b385-93c79408bcbb",
   "metadata": {},
   "outputs": [],
   "source": [
    "def matrix_interp_extrap(x, e_epsilon, P_arrays):\n",
    "    rho_ee = np.zeros(len(e_epsilon.eps))\n",
    "    rho_mm = np.zeros_like(rho_ee)\n",
    "\n",
    "    rho_ee[:] = 0.5 * P_arrays[:,0] * (1 + P_arrays[:,3])\n",
    "    rho_mm[:] = 0.5 * P_arrays[:,0] * (1 - P_arrays[:,3])\n",
    "\n",
    "    if x < e_epsilon.linspace_max:\n",
    "        func = matint.interpolate_log_fifth\n",
    "    else:\n",
    "        func = matint.interpolate_log_linear\n",
    "\n",
    "    fe_temp = func(x, x_array, rho_ee)\n",
    "    fm_temp = func(x, x_array, rho_mm)\n",
    "\n",
    "    return np.array([fe_temp + fm_temp, 0, 0, (fe_temp - fm_temp)/(fe_temp + fm_temp + 1e-100)])\n"
   ]
  },
  {
   "cell_type": "code",
   "execution_count": 50,
   "id": "ce7018e2-d88d-4f64-843e-1715be3fb235",
   "metadata": {},
   "outputs": [],
   "source": [
    "e_og = epsilon(10, 201, 5)"
   ]
  },
  {
   "cell_type": "code",
   "execution_count": null,
   "id": "6a51b6b7-e4ba-40b1-815d-f0cdeab257e6",
   "metadata": {},
   "outputs": [],
   "source": []
  },
  {
   "cell_type": "code",
   "execution_count": 46,
   "id": "8dc55562-87af-44ab-8197-af46081fe3b4",
   "metadata": {},
   "outputs": [],
   "source": [
    "e = epsilon(20, 201, 5)"
   ]
  },
  {
   "cell_type": "code",
   "execution_count": 47,
   "id": "a2b27348-67b8-47d2-8a3f-59c3582cce04",
   "metadata": {},
   "outputs": [],
   "source": [
    "f = np.exp(-e.eps)"
   ]
  },
  {
   "cell_type": "code",
   "execution_count": 48,
   "id": "51a124a9-f121-4e75-81c7-756f93b5b92a",
   "metadata": {},
   "outputs": [
    {
     "data": {
      "text/plain": [
       "1.0008331944757876"
      ]
     },
     "execution_count": 48,
     "metadata": {},
     "output_type": "execute_result"
    }
   ],
   "source": [
    "np.sum(f * e.w)"
   ]
  },
  {
   "cell_type": "code",
   "execution_count": 49,
   "id": "c2cc57cf-4825-4dc7-a7ff-cacbf82f80c8",
   "metadata": {},
   "outputs": [
    {
     "data": {
      "text/plain": [
       "(1.0008331924146339, 0.9999546000702375, 4.5399929762484854e-05)"
      ]
     },
     "execution_count": 49,
     "metadata": {},
     "output_type": "execute_result"
    }
   ],
   "source": [
    "ee = np.linspace(0,20,201)\n",
    "ff = np.exp(-ee)\n",
    "\n",
    "np.trapz(ff,ee), 1 - np.exp(-10), np.exp(-10)"
   ]
  },
  {
   "cell_type": "code",
   "execution_count": null,
   "id": "4173580a-ea84-444d-8654-cda5038bf73d",
   "metadata": {},
   "outputs": [],
   "source": []
  }
 ],
 "metadata": {
  "kernelspec": {
   "display_name": "Python 3 (ipykernel)",
   "language": "python",
   "name": "python3"
  },
  "language_info": {
   "codemirror_mode": {
    "name": "ipython",
    "version": 3
   },
   "file_extension": ".py",
   "mimetype": "text/x-python",
   "name": "python",
   "nbconvert_exporter": "python",
   "pygments_lexer": "ipython3",
   "version": "3.11.7"
  }
 },
 "nbformat": 4,
 "nbformat_minor": 5
}
